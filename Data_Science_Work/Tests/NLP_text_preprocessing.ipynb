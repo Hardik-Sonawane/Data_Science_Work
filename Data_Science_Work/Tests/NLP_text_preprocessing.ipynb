{
 "cells": [
  {
   "cell_type": "code",
   "execution_count": null,
   "id": "51a3b93d-aba9-4999-8a15-db3af7b473c4",
   "metadata": {},
   "outputs": [],
   "source": [
    "############## Test 7 ##########################"
   ]
  },
  {
   "cell_type": "code",
   "execution_count": 8,
   "id": "73dbe1f9-8368-487d-a292-472256971b4d",
   "metadata": {},
   "outputs": [
    {
     "data": {
      "text/plain": [
       "'Dancing is an art. Students should be taught dance as a subject in schools. I danced in many of my school functions. Some people are always hesitating.'"
      ]
     },
     "execution_count": 8,
     "metadata": {},
     "output_type": "execute_result"
    }
   ],
   "source": [
    "\n",
    "###Que.5\n",
    "\"\"\" 5 . Perform lemmatzation on the given text\n",
    " text= \"Dancing is an art. Students should be taught \n",
    "dance as a subject in schools . I danced in many of my \n",
    "school function. Some people are always hesitating \n",
    "to dance.\"\n",
    "\"\"\"\n",
    "import nltk\n",
    "from nltk.stem import WordNetLemmatizer\n",
    "lemmatizer = WordNetLemmatizer()\n",
    "text = \"Dancing is an art. Students should be taught dance as a subject in schools. I danced in many of my school functions. Some people are always hesitating.\"\n",
    "words = word_tokenize(text)\n",
    "lemmatizer.lemmatize(text)\n",
    "text\n"
   ]
  },
  {
   "cell_type": "code",
   "execution_count": 21,
   "id": "c810a500-e830-4a68-988d-16d8ddb56cd3",
   "metadata": {},
   "outputs": [
    {
     "name": "stdout",
     "output_type": "stream",
     "text": [
      "painful--->pain\n",
      "standing--->stand\n",
      "abstraction--->abstract\n",
      "magically--->magic\n"
     ]
    }
   ],
   "source": [
    "## Que.2\n",
    "\"\"\"\n",
    "3. Create a function that should return a list of stemmed \n",
    "words.\n",
    "e.g [‘running’] = [‘run’]\n",
    "list = [\"painful\",\"standing\",\"abstraction\",\"magically\"]\n",
    "\"\"\"\n",
    "\n",
    "list = [\"painful\",\"standing\",\"abstraction\",\"magically\"]\n",
    "from nltk.stem import PorterStemmer\n",
    "Stemming = PorterStemmer()\n",
    "for word in list:\n",
    "    print(word +\"--->\" + Stemming.stem(word))\n"
   ]
  },
  {
   "cell_type": "code",
   "execution_count": 36,
   "id": "dd3653a2-3e83-49c4-b663-94c97ab8dbab",
   "metadata": {},
   "outputs": [
    {
     "ename": "IndentationError",
     "evalue": "expected an indented block after 'for' statement on line 19 (1197551013.py, line 20)",
     "output_type": "error",
     "traceback": [
      "\u001b[1;36m  Cell \u001b[1;32mIn[36], line 20\u001b[1;36m\u001b[0m\n\u001b[1;33m    words = nltk.word_tokenize(sentences[i])\u001b[0m\n\u001b[1;37m    ^\u001b[0m\n\u001b[1;31mIndentationError\u001b[0m\u001b[1;31m:\u001b[0m expected an indented block after 'for' statement on line 19\n"
     ]
    }
   ],
   "source": []
  },
  {
   "cell_type": "code",
   "execution_count": null,
   "id": "1c7852b8-26fd-4343-97e9-d17668f0f925",
   "metadata": {},
   "outputs": [],
   "source": []
  },
  {
   "cell_type": "code",
   "execution_count": 50,
   "id": "e4fcb3d0-cf1e-4ae8-b247-4a2a983c75da",
   "metadata": {},
   "outputs": [
    {
     "name": "stderr",
     "output_type": "stream",
     "text": [
      "[nltk_data] Downloading package stopwords to\n",
      "[nltk_data]     C:\\Users\\scs\\AppData\\Roaming\\nltk_data...\n",
      "[nltk_data]   Package stopwords is already up-to-date!\n"
     ]
    },
    {
     "data": {
      "text/plain": [
       "['i',\n",
       " 'me',\n",
       " 'my',\n",
       " 'myself',\n",
       " 'we',\n",
       " 'our',\n",
       " 'ours',\n",
       " 'ourselves',\n",
       " 'you',\n",
       " \"you're\",\n",
       " \"you've\",\n",
       " \"you'll\",\n",
       " \"you'd\",\n",
       " 'your',\n",
       " 'yours',\n",
       " 'yourself',\n",
       " 'yourselves',\n",
       " 'he',\n",
       " 'him',\n",
       " 'his',\n",
       " 'himself',\n",
       " 'she',\n",
       " \"she's\",\n",
       " 'her',\n",
       " 'hers',\n",
       " 'herself',\n",
       " 'it',\n",
       " \"it's\",\n",
       " 'its',\n",
       " 'itself',\n",
       " 'they',\n",
       " 'them',\n",
       " 'their',\n",
       " 'theirs',\n",
       " 'themselves',\n",
       " 'what',\n",
       " 'which',\n",
       " 'who',\n",
       " 'whom',\n",
       " 'this',\n",
       " 'that',\n",
       " \"that'll\",\n",
       " 'these',\n",
       " 'those',\n",
       " 'am',\n",
       " 'is',\n",
       " 'are',\n",
       " 'was',\n",
       " 'were',\n",
       " 'be',\n",
       " 'been',\n",
       " 'being',\n",
       " 'have',\n",
       " 'has',\n",
       " 'had',\n",
       " 'having',\n",
       " 'do',\n",
       " 'does',\n",
       " 'did',\n",
       " 'doing',\n",
       " 'a',\n",
       " 'an',\n",
       " 'the',\n",
       " 'and',\n",
       " 'but',\n",
       " 'if',\n",
       " 'or',\n",
       " 'because',\n",
       " 'as',\n",
       " 'until',\n",
       " 'while',\n",
       " 'of',\n",
       " 'at',\n",
       " 'by',\n",
       " 'for',\n",
       " 'with',\n",
       " 'about',\n",
       " 'against',\n",
       " 'between',\n",
       " 'into',\n",
       " 'through',\n",
       " 'during',\n",
       " 'before',\n",
       " 'after',\n",
       " 'above',\n",
       " 'below',\n",
       " 'to',\n",
       " 'from',\n",
       " 'up',\n",
       " 'down',\n",
       " 'in',\n",
       " 'out',\n",
       " 'on',\n",
       " 'off',\n",
       " 'over',\n",
       " 'under',\n",
       " 'again',\n",
       " 'further',\n",
       " 'then',\n",
       " 'once',\n",
       " 'here',\n",
       " 'there',\n",
       " 'when',\n",
       " 'where',\n",
       " 'why',\n",
       " 'how',\n",
       " 'all',\n",
       " 'any',\n",
       " 'both',\n",
       " 'each',\n",
       " 'few',\n",
       " 'more',\n",
       " 'most',\n",
       " 'other',\n",
       " 'some',\n",
       " 'such',\n",
       " 'no',\n",
       " 'nor',\n",
       " 'not',\n",
       " 'only',\n",
       " 'own',\n",
       " 'same',\n",
       " 'so',\n",
       " 'than',\n",
       " 'too',\n",
       " 'very',\n",
       " 's',\n",
       " 't',\n",
       " 'can',\n",
       " 'will',\n",
       " 'just',\n",
       " 'don',\n",
       " \"don't\",\n",
       " 'should',\n",
       " \"should've\",\n",
       " 'now',\n",
       " 'd',\n",
       " 'll',\n",
       " 'm',\n",
       " 'o',\n",
       " 're',\n",
       " 've',\n",
       " 'y',\n",
       " 'ain',\n",
       " 'aren',\n",
       " \"aren't\",\n",
       " 'couldn',\n",
       " \"couldn't\",\n",
       " 'didn',\n",
       " \"didn't\",\n",
       " 'doesn',\n",
       " \"doesn't\",\n",
       " 'hadn',\n",
       " \"hadn't\",\n",
       " 'hasn',\n",
       " \"hasn't\",\n",
       " 'haven',\n",
       " \"haven't\",\n",
       " 'isn',\n",
       " \"isn't\",\n",
       " 'ma',\n",
       " 'mightn',\n",
       " \"mightn't\",\n",
       " 'mustn',\n",
       " \"mustn't\",\n",
       " 'needn',\n",
       " \"needn't\",\n",
       " 'shan',\n",
       " \"shan't\",\n",
       " 'shouldn',\n",
       " \"shouldn't\",\n",
       " 'wasn',\n",
       " \"wasn't\",\n",
       " 'weren',\n",
       " \"weren't\",\n",
       " 'won',\n",
       " \"won't\",\n",
       " 'wouldn',\n",
       " \"wouldn't\"]"
      ]
     },
     "execution_count": 50,
     "metadata": {},
     "output_type": "execute_result"
    }
   ],
   "source": [
    "nltk.download('stopwords')\n",
    "from nltk.corpus import stopwords\n",
    "stopwords.words('english')"
   ]
  },
  {
   "cell_type": "code",
   "execution_count": 49,
   "id": "fa7f8750-e888-4665-81a7-6ef627462913",
   "metadata": {},
   "outputs": [
    {
     "name": "stderr",
     "output_type": "stream",
     "text": [
      "[nltk_data] Downloading package stopwords to\n",
      "[nltk_data]     C:\\Users\\scs\\AppData\\Roaming\\nltk_data...\n",
      "[nltk_data]   Package stopwords is already up-to-date!\n"
     ]
    },
    {
     "ename": "NameError",
     "evalue": "name 'nltk_set' is not defined",
     "output_type": "error",
     "traceback": [
      "\u001b[1;31m---------------------------------------------------------------------------\u001b[0m",
      "\u001b[1;31mNameError\u001b[0m                                 Traceback (most recent call last)",
      "Cell \u001b[1;32mIn[49], line 17\u001b[0m\n\u001b[0;32m     15\u001b[0m \u001b[38;5;28;01mfrom\u001b[39;00m \u001b[38;5;21;01mnltk\u001b[39;00m\u001b[38;5;21;01m.\u001b[39;00m\u001b[38;5;21;01mstem\u001b[39;00m \u001b[38;5;28;01mimport\u001b[39;00m PorterStemmer\n\u001b[0;32m     16\u001b[0m Stemming \u001b[38;5;241m=\u001b[39m PorterStemmer()\n\u001b[1;32m---> 17\u001b[0m nltk_set\u001b[38;5;241m.\u001b[39mtokenize(sentence12)\n\u001b[0;32m     19\u001b[0m \u001b[38;5;28;01mfor\u001b[39;00m i \u001b[38;5;129;01min\u001b[39;00m \u001b[38;5;28mrange\u001b[39m (\u001b[38;5;28mlen\u001b[39m(sentence12)):\n\u001b[0;32m     20\u001b[0m   words \u001b[38;5;241m=\u001b[39m nltk\u001b[38;5;241m.\u001b[39mword_tokenize(sentences[i])\n",
      "\u001b[1;31mNameError\u001b[0m: name 'nltk_set' is not defined"
     ]
    }
   ],
   "source": [
    "# Que.3\n",
    "\"\"\"\n",
    "4. Implement a function that takes a list of tokens (words) \n",
    "and removes all stopwords from it. For example, if the \n",
    "input tokens are [\"This\", \"is\", \"a\", \"test\"] and \n",
    "the stopwords are [\"is\", \"a\", \"the\"], the function should \n",
    "return [\"This\", \"test\"].\n",
    "Stopwords = [“is”,”a”,”the”, “an”,”she”]\n",
    "Sentence1: “an apple is on the table.”\n",
    "Sentence2: “She is an engineer.”\n",
    "\"\"\"\n",
    "\n",
    "nltk.download('stopwords')\n",
    "sentence12 = \"an apple is on the table.She is an engineer\"\n",
    "from nltk.stem import PorterStemmer\n",
    "Stemming = PorterStemmer()\n",
    "nltk_set.tokenize(sentence12)\n",
    "\n",
    "for i in range (len(sentence12)):\n",
    "  words = nltk.word_tokenize(sentences[i])\n",
    "  words = [lemmatizer.lemmatize(word.lower())]\n",
    "sentences[i] = ' '.join(words)\n",
    "    \n"
   ]
  },
  {
   "cell_type": "code",
   "execution_count": null,
   "id": "8863870d-1b82-478a-8791-5bc56bbe003e",
   "metadata": {},
   "outputs": [],
   "source": [
    "import nltk\n",
    "from nltk.corpus import stopwords\n",
    "from nltk.tokenize import word_tokenize\n",
    "nltk.download('stopwords')\n",
    "nltk.download('punkt')\n",
    "sentence1 = \"an apple is on the table.\"\n",
    "sentence2 = \"She is an engineer.\"\n",
    "stop_words = set(stopwords.words('english'))\n",
    "custom_stopwords = {\"is\", \"a\", \"the\", \"an\", \"she\"}\n",
    "stop_words.update(custom_stopwords)\n",
    "def remove_stopwords(sentence):\n",
    "    tokens = word_tokenize(sentence.lower())\n",
    "    filtered_tokens = [word for word in tokens if word not in stop_words]\n",
    "    return filtered_tokens\n",
    "filtered_sentence1 = remove_stopwords(sentence1)\n",
    "filtered_sentence2 = remove_stopwords(sentence2)\n",
    "\n",
    "print(\"Filtered Sentence 1:\", filtered_sentence1)\n",
    "print(\"Filtered Sentence 2:\", filtered_sentence2)"
   ]
  },
  {
   "cell_type": "code",
   "execution_count": null,
   "id": "d84ff1b4-3943-426e-87a0-0e50f25dc720",
   "metadata": {},
   "outputs": [],
   "source": []
  }
 ],
 "metadata": {
  "kernelspec": {
   "display_name": "Python 3 (ipykernel)",
   "language": "python",
   "name": "python3"
  },
  "language_info": {
   "codemirror_mode": {
    "name": "ipython",
    "version": 3
   },
   "file_extension": ".py",
   "mimetype": "text/x-python",
   "name": "python",
   "nbconvert_exporter": "python",
   "pygments_lexer": "ipython3",
   "version": "3.11.7"
  }
 },
 "nbformat": 4,
 "nbformat_minor": 5
}
